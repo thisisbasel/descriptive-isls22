{
 "cells": [
  {
   "cell_type": "code",
   "execution_count": 2,
   "metadata": {},
   "outputs": [],
   "source": [
    "### import packages\n",
    "\n",
    "import pandas as pd"
   ]
  },
  {
   "cell_type": "markdown",
   "metadata": {},
   "source": [
    "### import data "
   ]
  },
  {
   "cell_type": "code",
   "execution_count": 3,
   "metadata": {},
   "outputs": [],
   "source": [
    "df_c_c = pd.read_csv(\"/Users/baselhussein/Projects/pps_isls_2022/lagseq/data/segmentData_spatial/df_changeless_college_vector.csv\")\n",
    "df_c_m = pd.read_csv(\"/Users/baselhussein/Projects/pps_isls_2022/lagseq/data/segmentData_spatial/df_changeless_middle_vector.csv\")\n",
    "df_f_c = pd.read_csv(\"/Users/baselhussein/Projects/pps_isls_2022/lagseq/data/segmentData_spatial/df_float_college_vector.csv\")\n",
    "df_f_m = pd.read_csv(\"/Users/baselhussein/Projects/pps_isls_2022/lagseq/data/segmentData_spatial/df_float_middle_vector.csv\")"
   ]
  },
  {
   "cell_type": "markdown",
   "metadata": {},
   "source": [
    "### COLLEGE - CHANGELESS"
   ]
  },
  {
   "cell_type": "code",
   "execution_count": 4,
   "metadata": {},
   "outputs": [
    {
     "data": {
      "text/html": [
       "<div>\n",
       "<style scoped>\n",
       "    .dataframe tbody tr th:only-of-type {\n",
       "        vertical-align: middle;\n",
       "    }\n",
       "\n",
       "    .dataframe tbody tr th {\n",
       "        vertical-align: top;\n",
       "    }\n",
       "\n",
       "    .dataframe thead th {\n",
       "        text-align: right;\n",
       "    }\n",
       "</style>\n",
       "<table border=\"1\" class=\"dataframe\">\n",
       "  <thead>\n",
       "    <tr style=\"text-align: right;\">\n",
       "      <th></th>\n",
       "      <th>filename</th>\n",
       "      <th>segment</th>\n",
       "      <th>location</th>\n",
       "      <th>split</th>\n",
       "    </tr>\n",
       "  </thead>\n",
       "  <tbody>\n",
       "    <tr>\n",
       "      <th>0</th>\n",
       "      <td>College-BH.C.P01.S02.TL.09-FINAL</td>\n",
       "      <td>ND-1</td>\n",
       "      <td>0.00</td>\n",
       "      <td>b</td>\n",
       "    </tr>\n",
       "    <tr>\n",
       "      <th>1</th>\n",
       "      <td>College-BH.C.P01.S02.TL.09-FINAL</td>\n",
       "      <td>AR-1</td>\n",
       "      <td>0.25</td>\n",
       "      <td>b</td>\n",
       "    </tr>\n",
       "    <tr>\n",
       "      <th>2</th>\n",
       "      <td>College-BH.C.P01.S02.TL.09-FINAL</td>\n",
       "      <td>ND-1</td>\n",
       "      <td>0.50</td>\n",
       "      <td>b</td>\n",
       "    </tr>\n",
       "    <tr>\n",
       "      <th>3</th>\n",
       "      <td>College-BH.C.P01.S02.TL.09-FINAL</td>\n",
       "      <td>AR-1</td>\n",
       "      <td>0.75</td>\n",
       "      <td>e</td>\n",
       "    </tr>\n",
       "    <tr>\n",
       "      <th>4</th>\n",
       "      <td>College-BH.C.P01.S02.TL.09-FINAL</td>\n",
       "      <td>SR</td>\n",
       "      <td>1.00</td>\n",
       "      <td>e</td>\n",
       "    </tr>\n",
       "    <tr>\n",
       "      <th>...</th>\n",
       "      <td>...</td>\n",
       "      <td>...</td>\n",
       "      <td>...</td>\n",
       "      <td>...</td>\n",
       "    </tr>\n",
       "    <tr>\n",
       "      <th>112</th>\n",
       "      <td>College-RH.C.P02.S01.TL.09 - Final</td>\n",
       "      <td>ND-1</td>\n",
       "      <td>0.77</td>\n",
       "      <td>e</td>\n",
       "    </tr>\n",
       "    <tr>\n",
       "      <th>113</th>\n",
       "      <td>College-RH.C.P02.S01.TL.09 - Final</td>\n",
       "      <td>CE-2/3</td>\n",
       "      <td>0.85</td>\n",
       "      <td>e</td>\n",
       "    </tr>\n",
       "    <tr>\n",
       "      <th>114</th>\n",
       "      <td>College-RH.C.P02.S01.TL.09 - Final</td>\n",
       "      <td>AR-1</td>\n",
       "      <td>0.92</td>\n",
       "      <td>e</td>\n",
       "    </tr>\n",
       "    <tr>\n",
       "      <th>115</th>\n",
       "      <td>College-RH.C.P02.S01.TL.09 - Final</td>\n",
       "      <td>SR</td>\n",
       "      <td>1.00</td>\n",
       "      <td>e</td>\n",
       "    </tr>\n",
       "    <tr>\n",
       "      <th>116</th>\n",
       "      <td>segment</td>\n",
       "      <td>NaN</td>\n",
       "      <td>NaN</td>\n",
       "      <td>NaN</td>\n",
       "    </tr>\n",
       "  </tbody>\n",
       "</table>\n",
       "<p>117 rows × 4 columns</p>\n",
       "</div>"
      ],
      "text/plain": [
       "                               filename segment  location  split\n",
       "0      College-BH.C.P01.S02.TL.09-FINAL    ND-1       0.00     b\n",
       "1      College-BH.C.P01.S02.TL.09-FINAL    AR-1       0.25     b\n",
       "2      College-BH.C.P01.S02.TL.09-FINAL    ND-1       0.50     b\n",
       "3      College-BH.C.P01.S02.TL.09-FINAL    AR-1       0.75     e\n",
       "4      College-BH.C.P01.S02.TL.09-FINAL      SR       1.00     e\n",
       "..                                  ...     ...        ...   ...\n",
       "112  College-RH.C.P02.S01.TL.09 - Final    ND-1       0.77     e\n",
       "113  College-RH.C.P02.S01.TL.09 - Final  CE-2/3       0.85     e\n",
       "114  College-RH.C.P02.S01.TL.09 - Final    AR-1       0.92     e\n",
       "115  College-RH.C.P02.S01.TL.09 - Final      SR       1.00     e\n",
       "116                             segment     NaN        NaN   NaN\n",
       "\n",
       "[117 rows x 4 columns]"
      ]
     },
     "execution_count": 4,
     "metadata": {},
     "output_type": "execute_result"
    }
   ],
   "source": [
    "df_c_c"
   ]
  },
  {
   "cell_type": "code",
   "execution_count": 5,
   "metadata": {},
   "outputs": [],
   "source": [
    "### drop NaN\n",
    "df_c_c.dropna(inplace=True)"
   ]
  },
  {
   "cell_type": "code",
   "execution_count": 6,
   "metadata": {},
   "outputs": [],
   "source": [
    "#df_c_c.head()"
   ]
  },
  {
   "cell_type": "code",
   "execution_count": 7,
   "metadata": {},
   "outputs": [],
   "source": [
    "### add column for name + location \n",
    "#df_c_c['nameProgress'] = df_c_c['name'].str.cat(df_c_c['location'],sep=\" -- \")"
   ]
  },
  {
   "cell_type": "code",
   "execution_count": 9,
   "metadata": {},
   "outputs": [],
   "source": [
    "categories_moves_c_c = df_c_c['segment'].unique()"
   ]
  },
  {
   "cell_type": "code",
   "execution_count": 10,
   "metadata": {},
   "outputs": [],
   "source": [
    "df_c_c_moves = pd.get_dummies(df_c_c.segment).reindex(columns=categories_moves_c_c, fill_value=0)"
   ]
  },
  {
   "cell_type": "code",
   "execution_count": 11,
   "metadata": {},
   "outputs": [],
   "source": [
    "df_c_c_summary_moves = pd.concat([df_c_c, df_c_c_moves], axis=1)"
   ]
  },
  {
   "cell_type": "code",
   "execution_count": 12,
   "metadata": {},
   "outputs": [],
   "source": [
    "df_c_c_begin = pd.DataFrame(df_c_c_summary_moves[df_c_c_summary_moves['split'].str.contains(\"b\")])\n",
    "df_c_c_end = pd.DataFrame(df_c_c_summary_moves[df_c_c_summary_moves['split'].str.contains(\"e\")])\n",
    "#df_c_c_middle = pd.DataFrame(df_c_c_summary_moves[df_c_c_summary_moves['location'].str.contains(\"m\")])"
   ]
  },
  {
   "cell_type": "code",
   "execution_count": 13,
   "metadata": {},
   "outputs": [],
   "source": [
    "byLocation_begin = df_c_c_begin.groupby('filename')\n",
    "#byLocation_middle = df_c_c_middle.groupby('name')\n",
    "byLocation_end = df_c_c_end.groupby('filename')"
   ]
  },
  {
   "cell_type": "code",
   "execution_count": 14,
   "metadata": {},
   "outputs": [],
   "source": [
    "df_c_c_begin_sum = pd.DataFrame(byLocation_begin.sum())\n",
    "#df_c_c_middle_sum = pd.DataFrame(byLocation_middle.sum())\n",
    "df_c_c_end_sum = pd.DataFrame(byLocation_end.sum())"
   ]
  },
  {
   "cell_type": "code",
   "execution_count": 16,
   "metadata": {},
   "outputs": [
    {
     "data": {
      "text/html": [
       "<div>\n",
       "<style scoped>\n",
       "    .dataframe tbody tr th:only-of-type {\n",
       "        vertical-align: middle;\n",
       "    }\n",
       "\n",
       "    .dataframe tbody tr th {\n",
       "        vertical-align: top;\n",
       "    }\n",
       "\n",
       "    .dataframe thead th {\n",
       "        text-align: right;\n",
       "    }\n",
       "</style>\n",
       "<table border=\"1\" class=\"dataframe\">\n",
       "  <thead>\n",
       "    <tr style=\"text-align: right;\">\n",
       "      <th></th>\n",
       "      <th>location</th>\n",
       "      <th>ND-1</th>\n",
       "      <th>AR-1</th>\n",
       "      <th>SR</th>\n",
       "      <th>ND-2/3</th>\n",
       "      <th>CE-2/3</th>\n",
       "      <th>CE-1</th>\n",
       "      <th>AR-2/3</th>\n",
       "    </tr>\n",
       "    <tr>\n",
       "      <th>filename</th>\n",
       "      <th></th>\n",
       "      <th></th>\n",
       "      <th></th>\n",
       "      <th></th>\n",
       "      <th></th>\n",
       "      <th></th>\n",
       "      <th></th>\n",
       "      <th></th>\n",
       "    </tr>\n",
       "  </thead>\n",
       "  <tbody>\n",
       "    <tr>\n",
       "      <th>College-BH.C.P01.S02.TL.09-FINAL</th>\n",
       "      <td>0.75</td>\n",
       "      <td>2</td>\n",
       "      <td>1</td>\n",
       "      <td>0</td>\n",
       "      <td>0</td>\n",
       "      <td>0</td>\n",
       "      <td>0</td>\n",
       "      <td>0</td>\n",
       "    </tr>\n",
       "    <tr>\n",
       "      <th>College-BH.C.P02.S02.TL.09-FINAL</th>\n",
       "      <td>2.00</td>\n",
       "      <td>3</td>\n",
       "      <td>2</td>\n",
       "      <td>0</td>\n",
       "      <td>2</td>\n",
       "      <td>1</td>\n",
       "      <td>0</td>\n",
       "      <td>0</td>\n",
       "    </tr>\n",
       "    <tr>\n",
       "      <th>College-BH.C.P03.S02.TL09 - FINAL</th>\n",
       "      <td>1.26</td>\n",
       "      <td>2</td>\n",
       "      <td>2</td>\n",
       "      <td>0</td>\n",
       "      <td>0</td>\n",
       "      <td>0</td>\n",
       "      <td>0</td>\n",
       "      <td>1</td>\n",
       "    </tr>\n",
       "    <tr>\n",
       "      <th>College-JV.C.P01.S02.TL.09 - FINAL</th>\n",
       "      <td>3.12</td>\n",
       "      <td>5</td>\n",
       "      <td>5</td>\n",
       "      <td>0</td>\n",
       "      <td>2</td>\n",
       "      <td>1</td>\n",
       "      <td>0</td>\n",
       "      <td>0</td>\n",
       "    </tr>\n",
       "    <tr>\n",
       "      <th>College-JV.C.P02.S03 - Final</th>\n",
       "      <td>0.60</td>\n",
       "      <td>1</td>\n",
       "      <td>1</td>\n",
       "      <td>0</td>\n",
       "      <td>1</td>\n",
       "      <td>0</td>\n",
       "      <td>0</td>\n",
       "      <td>0</td>\n",
       "    </tr>\n",
       "    <tr>\n",
       "      <th>College-JV.C.P03.S03.TL.09 - Final</th>\n",
       "      <td>0.75</td>\n",
       "      <td>2</td>\n",
       "      <td>1</td>\n",
       "      <td>0</td>\n",
       "      <td>0</td>\n",
       "      <td>0</td>\n",
       "      <td>0</td>\n",
       "      <td>0</td>\n",
       "    </tr>\n",
       "    <tr>\n",
       "      <th>College-MG.C.P01.S02_TL09 - Final</th>\n",
       "      <td>2.26</td>\n",
       "      <td>3</td>\n",
       "      <td>2</td>\n",
       "      <td>0</td>\n",
       "      <td>3</td>\n",
       "      <td>0</td>\n",
       "      <td>1</td>\n",
       "      <td>0</td>\n",
       "    </tr>\n",
       "    <tr>\n",
       "      <th>College-RH.C.P01.S01.TL.09 - Final</th>\n",
       "      <td>1.50</td>\n",
       "      <td>3</td>\n",
       "      <td>2</td>\n",
       "      <td>0</td>\n",
       "      <td>1</td>\n",
       "      <td>0</td>\n",
       "      <td>0</td>\n",
       "      <td>0</td>\n",
       "    </tr>\n",
       "    <tr>\n",
       "      <th>College-RH.C.P02.S01.TL.09 - Final</th>\n",
       "      <td>1.61</td>\n",
       "      <td>3</td>\n",
       "      <td>2</td>\n",
       "      <td>0</td>\n",
       "      <td>2</td>\n",
       "      <td>0</td>\n",
       "      <td>0</td>\n",
       "      <td>0</td>\n",
       "    </tr>\n",
       "  </tbody>\n",
       "</table>\n",
       "</div>"
      ],
      "text/plain": [
       "                                    location   ND-1  AR-1  SR  ND-2/3  CE-2/3  \\\n",
       "filename                                                                        \n",
       "College-BH.C.P01.S02.TL.09-FINAL         0.75     2     1   0       0       0   \n",
       "College-BH.C.P02.S02.TL.09-FINAL         2.00     3     2   0       2       1   \n",
       "College-BH.C.P03.S02.TL09 - FINAL        1.26     2     2   0       0       0   \n",
       "College-JV.C.P01.S02.TL.09 - FINAL       3.12     5     5   0       2       1   \n",
       "College-JV.C.P02.S03 - Final             0.60     1     1   0       1       0   \n",
       "College-JV.C.P03.S03.TL.09 - Final       0.75     2     1   0       0       0   \n",
       "College-MG.C.P01.S02_TL09 - Final        2.26     3     2   0       3       0   \n",
       "College-RH.C.P01.S01.TL.09 - Final       1.50     3     2   0       1       0   \n",
       "College-RH.C.P02.S01.TL.09 - Final       1.61     3     2   0       2       0   \n",
       "\n",
       "                                    CE-1  AR-2/3  \n",
       "filename                                          \n",
       "College-BH.C.P01.S02.TL.09-FINAL       0       0  \n",
       "College-BH.C.P02.S02.TL.09-FINAL       0       0  \n",
       "College-BH.C.P03.S02.TL09 - FINAL      0       1  \n",
       "College-JV.C.P01.S02.TL.09 - FINAL     0       0  \n",
       "College-JV.C.P02.S03 - Final           0       0  \n",
       "College-JV.C.P03.S03.TL.09 - Final     0       0  \n",
       "College-MG.C.P01.S02_TL09 - Final      1       0  \n",
       "College-RH.C.P01.S01.TL.09 - Final     0       0  \n",
       "College-RH.C.P02.S01.TL.09 - Final     0       0  "
      ]
     },
     "execution_count": 16,
     "metadata": {},
     "output_type": "execute_result"
    }
   ],
   "source": [
    "df_c_c_begin_sum"
   ]
  },
  {
   "cell_type": "code",
   "execution_count": 17,
   "metadata": {},
   "outputs": [
    {
     "data": {
      "text/plain": [
       "location     1.538889\n",
       "ND-1         2.666667\n",
       "AR-1         2.000000\n",
       "SR           0.000000\n",
       "ND-2/3       1.222222\n",
       "CE-2/3       0.222222\n",
       "CE-1         0.111111\n",
       "AR-2/3       0.111111\n",
       "dtype: float64"
      ]
     },
     "execution_count": 17,
     "metadata": {},
     "output_type": "execute_result"
    }
   ],
   "source": [
    "df_c_c_begin_sum.mean()"
   ]
  },
  {
   "cell_type": "code",
   "execution_count": 18,
   "metadata": {},
   "outputs": [
    {
     "data": {
      "text/plain": [
       "location     0.824855\n",
       "ND-1         1.118034\n",
       "AR-1         1.224745\n",
       "SR           0.000000\n",
       "ND-2/3       1.092906\n",
       "CE-2/3       0.440959\n",
       "CE-1         0.333333\n",
       "AR-2/3       0.333333\n",
       "dtype: float64"
      ]
     },
     "execution_count": 18,
     "metadata": {},
     "output_type": "execute_result"
    }
   ],
   "source": [
    "df_c_c_begin_sum.std()"
   ]
  },
  {
   "cell_type": "code",
   "execution_count": 30,
   "metadata": {},
   "outputs": [],
   "source": [
    "#df_c_c_middle_sum"
   ]
  },
  {
   "cell_type": "code",
   "execution_count": 31,
   "metadata": {},
   "outputs": [],
   "source": [
    "#df_c_c_middle_sum.mean()"
   ]
  },
  {
   "cell_type": "code",
   "execution_count": 32,
   "metadata": {},
   "outputs": [],
   "source": [
    "#df_c_c_middle_sum.std()"
   ]
  },
  {
   "cell_type": "code",
   "execution_count": 19,
   "metadata": {},
   "outputs": [
    {
     "data": {
      "text/html": [
       "<div>\n",
       "<style scoped>\n",
       "    .dataframe tbody tr th:only-of-type {\n",
       "        vertical-align: middle;\n",
       "    }\n",
       "\n",
       "    .dataframe tbody tr th {\n",
       "        vertical-align: top;\n",
       "    }\n",
       "\n",
       "    .dataframe thead th {\n",
       "        text-align: right;\n",
       "    }\n",
       "</style>\n",
       "<table border=\"1\" class=\"dataframe\">\n",
       "  <thead>\n",
       "    <tr style=\"text-align: right;\">\n",
       "      <th></th>\n",
       "      <th>location</th>\n",
       "      <th>ND-1</th>\n",
       "      <th>AR-1</th>\n",
       "      <th>SR</th>\n",
       "      <th>ND-2/3</th>\n",
       "      <th>CE-2/3</th>\n",
       "      <th>CE-1</th>\n",
       "      <th>AR-2/3</th>\n",
       "    </tr>\n",
       "    <tr>\n",
       "      <th>filename</th>\n",
       "      <th></th>\n",
       "      <th></th>\n",
       "      <th></th>\n",
       "      <th></th>\n",
       "      <th></th>\n",
       "      <th></th>\n",
       "      <th></th>\n",
       "      <th></th>\n",
       "    </tr>\n",
       "  </thead>\n",
       "  <tbody>\n",
       "    <tr>\n",
       "      <th>College-BH.C.P01.S02.TL.09-FINAL</th>\n",
       "      <td>1.75</td>\n",
       "      <td>0</td>\n",
       "      <td>1</td>\n",
       "      <td>1</td>\n",
       "      <td>0</td>\n",
       "      <td>0</td>\n",
       "      <td>0</td>\n",
       "      <td>0</td>\n",
       "    </tr>\n",
       "    <tr>\n",
       "      <th>College-BH.C.P02.S02.TL.09-FINAL</th>\n",
       "      <td>5.50</td>\n",
       "      <td>1</td>\n",
       "      <td>4</td>\n",
       "      <td>1</td>\n",
       "      <td>0</td>\n",
       "      <td>0</td>\n",
       "      <td>1</td>\n",
       "      <td>0</td>\n",
       "    </tr>\n",
       "    <tr>\n",
       "      <th>College-BH.C.P03.S02.TL09 - FINAL</th>\n",
       "      <td>3.26</td>\n",
       "      <td>1</td>\n",
       "      <td>1</td>\n",
       "      <td>1</td>\n",
       "      <td>0</td>\n",
       "      <td>1</td>\n",
       "      <td>0</td>\n",
       "      <td>0</td>\n",
       "    </tr>\n",
       "    <tr>\n",
       "      <th>College-JV.C.P01.S02.TL.09 - FINAL</th>\n",
       "      <td>9.88</td>\n",
       "      <td>6</td>\n",
       "      <td>5</td>\n",
       "      <td>1</td>\n",
       "      <td>0</td>\n",
       "      <td>0</td>\n",
       "      <td>0</td>\n",
       "      <td>1</td>\n",
       "    </tr>\n",
       "    <tr>\n",
       "      <th>College-JV.C.P02.S03 - Final</th>\n",
       "      <td>2.40</td>\n",
       "      <td>1</td>\n",
       "      <td>1</td>\n",
       "      <td>1</td>\n",
       "      <td>0</td>\n",
       "      <td>0</td>\n",
       "      <td>0</td>\n",
       "      <td>0</td>\n",
       "    </tr>\n",
       "    <tr>\n",
       "      <th>College-JV.C.P03.S03.TL.09 - Final</th>\n",
       "      <td>1.75</td>\n",
       "      <td>0</td>\n",
       "      <td>1</td>\n",
       "      <td>1</td>\n",
       "      <td>0</td>\n",
       "      <td>0</td>\n",
       "      <td>0</td>\n",
       "      <td>0</td>\n",
       "    </tr>\n",
       "    <tr>\n",
       "      <th>College-MG.C.P01.S02_TL09 - Final</th>\n",
       "      <td>6.26</td>\n",
       "      <td>2</td>\n",
       "      <td>3</td>\n",
       "      <td>1</td>\n",
       "      <td>1</td>\n",
       "      <td>1</td>\n",
       "      <td>0</td>\n",
       "      <td>0</td>\n",
       "    </tr>\n",
       "    <tr>\n",
       "      <th>College-RH.C.P01.S01.TL.09 - Final</th>\n",
       "      <td>4.00</td>\n",
       "      <td>1</td>\n",
       "      <td>1</td>\n",
       "      <td>1</td>\n",
       "      <td>0</td>\n",
       "      <td>1</td>\n",
       "      <td>0</td>\n",
       "      <td>1</td>\n",
       "    </tr>\n",
       "    <tr>\n",
       "      <th>College-RH.C.P02.S01.TL.09 - Final</th>\n",
       "      <td>5.39</td>\n",
       "      <td>1</td>\n",
       "      <td>3</td>\n",
       "      <td>1</td>\n",
       "      <td>0</td>\n",
       "      <td>2</td>\n",
       "      <td>0</td>\n",
       "      <td>0</td>\n",
       "    </tr>\n",
       "  </tbody>\n",
       "</table>\n",
       "</div>"
      ],
      "text/plain": [
       "                                    location   ND-1  AR-1  SR  ND-2/3  CE-2/3  \\\n",
       "filename                                                                        \n",
       "College-BH.C.P01.S02.TL.09-FINAL         1.75     0     1   1       0       0   \n",
       "College-BH.C.P02.S02.TL.09-FINAL         5.50     1     4   1       0       0   \n",
       "College-BH.C.P03.S02.TL09 - FINAL        3.26     1     1   1       0       1   \n",
       "College-JV.C.P01.S02.TL.09 - FINAL       9.88     6     5   1       0       0   \n",
       "College-JV.C.P02.S03 - Final             2.40     1     1   1       0       0   \n",
       "College-JV.C.P03.S03.TL.09 - Final       1.75     0     1   1       0       0   \n",
       "College-MG.C.P01.S02_TL09 - Final        6.26     2     3   1       1       1   \n",
       "College-RH.C.P01.S01.TL.09 - Final       4.00     1     1   1       0       1   \n",
       "College-RH.C.P02.S01.TL.09 - Final       5.39     1     3   1       0       2   \n",
       "\n",
       "                                    CE-1  AR-2/3  \n",
       "filename                                          \n",
       "College-BH.C.P01.S02.TL.09-FINAL       0       0  \n",
       "College-BH.C.P02.S02.TL.09-FINAL       1       0  \n",
       "College-BH.C.P03.S02.TL09 - FINAL      0       0  \n",
       "College-JV.C.P01.S02.TL.09 - FINAL     0       1  \n",
       "College-JV.C.P02.S03 - Final           0       0  \n",
       "College-JV.C.P03.S03.TL.09 - Final     0       0  \n",
       "College-MG.C.P01.S02_TL09 - Final      0       0  \n",
       "College-RH.C.P01.S01.TL.09 - Final     0       1  \n",
       "College-RH.C.P02.S01.TL.09 - Final     0       0  "
      ]
     },
     "execution_count": 19,
     "metadata": {},
     "output_type": "execute_result"
    }
   ],
   "source": [
    "df_c_c_end_sum"
   ]
  },
  {
   "cell_type": "code",
   "execution_count": 20,
   "metadata": {},
   "outputs": [
    {
     "data": {
      "text/plain": [
       "location     4.465556\n",
       "ND-1         1.444444\n",
       "AR-1         2.222222\n",
       "SR           1.000000\n",
       "ND-2/3       0.111111\n",
       "CE-2/3       0.555556\n",
       "CE-1         0.111111\n",
       "AR-2/3       0.222222\n",
       "dtype: float64"
      ]
     },
     "execution_count": 20,
     "metadata": {},
     "output_type": "execute_result"
    }
   ],
   "source": [
    "df_c_c_end_sum.mean()"
   ]
  },
  {
   "cell_type": "code",
   "execution_count": 22,
   "metadata": {},
   "outputs": [
    {
     "data": {
      "text/plain": [
       "location     2.625500\n",
       "ND-1         1.810463\n",
       "AR-1         1.563472\n",
       "SR           0.000000\n",
       "ND-2/3       0.333333\n",
       "CE-2/3       0.726483\n",
       "CE-1         0.333333\n",
       "AR-2/3       0.440959\n",
       "dtype: float64"
      ]
     },
     "execution_count": 22,
     "metadata": {},
     "output_type": "execute_result"
    }
   ],
   "source": [
    "df_c_c_end_sum.std()"
   ]
  },
  {
   "cell_type": "markdown",
   "metadata": {},
   "source": [
    "### #################################################"
   ]
  },
  {
   "cell_type": "markdown",
   "metadata": {},
   "source": [
    "### CHANGELESS - MIDDLE"
   ]
  },
  {
   "cell_type": "code",
   "execution_count": 23,
   "metadata": {},
   "outputs": [
    {
     "data": {
      "text/html": [
       "<div>\n",
       "<style scoped>\n",
       "    .dataframe tbody tr th:only-of-type {\n",
       "        vertical-align: middle;\n",
       "    }\n",
       "\n",
       "    .dataframe tbody tr th {\n",
       "        vertical-align: top;\n",
       "    }\n",
       "\n",
       "    .dataframe thead th {\n",
       "        text-align: right;\n",
       "    }\n",
       "</style>\n",
       "<table border=\"1\" class=\"dataframe\">\n",
       "  <thead>\n",
       "    <tr style=\"text-align: right;\">\n",
       "      <th></th>\n",
       "      <th>filename</th>\n",
       "      <th>segment</th>\n",
       "      <th>location</th>\n",
       "      <th>split</th>\n",
       "    </tr>\n",
       "  </thead>\n",
       "  <tbody>\n",
       "    <tr>\n",
       "      <th>0</th>\n",
       "      <td>Middle-JV.P01.S02.TL.09.NOWEB - FINAL</td>\n",
       "      <td>ND-1</td>\n",
       "      <td>0.00</td>\n",
       "      <td>b</td>\n",
       "    </tr>\n",
       "    <tr>\n",
       "      <th>1</th>\n",
       "      <td>Middle-JV.P01.S02.TL.09.NOWEB - FINAL</td>\n",
       "      <td>ND-1</td>\n",
       "      <td>0.09</td>\n",
       "      <td>b</td>\n",
       "    </tr>\n",
       "    <tr>\n",
       "      <th>2</th>\n",
       "      <td>Middle-JV.P01.S02.TL.09.NOWEB - FINAL</td>\n",
       "      <td>AR-1</td>\n",
       "      <td>0.18</td>\n",
       "      <td>b</td>\n",
       "    </tr>\n",
       "    <tr>\n",
       "      <th>3</th>\n",
       "      <td>Middle-JV.P01.S02.TL.09.NOWEB - FINAL</td>\n",
       "      <td>ND-1</td>\n",
       "      <td>0.27</td>\n",
       "      <td>b</td>\n",
       "    </tr>\n",
       "    <tr>\n",
       "      <th>4</th>\n",
       "      <td>Middle-JV.P01.S02.TL.09.NOWEB - FINAL</td>\n",
       "      <td>AR-1</td>\n",
       "      <td>0.36</td>\n",
       "      <td>b</td>\n",
       "    </tr>\n",
       "  </tbody>\n",
       "</table>\n",
       "</div>"
      ],
      "text/plain": [
       "                                filename segment  location  split \n",
       "0  Middle-JV.P01.S02.TL.09.NOWEB - FINAL    ND-1       0.00      b\n",
       "1  Middle-JV.P01.S02.TL.09.NOWEB - FINAL    ND-1       0.09      b\n",
       "2  Middle-JV.P01.S02.TL.09.NOWEB - FINAL    AR-1       0.18      b\n",
       "3  Middle-JV.P01.S02.TL.09.NOWEB - FINAL    ND-1       0.27      b\n",
       "4  Middle-JV.P01.S02.TL.09.NOWEB - FINAL    AR-1       0.36      b"
      ]
     },
     "execution_count": 23,
     "metadata": {},
     "output_type": "execute_result"
    }
   ],
   "source": [
    "df_c_m.head()"
   ]
  },
  {
   "cell_type": "code",
   "execution_count": 24,
   "metadata": {},
   "outputs": [],
   "source": [
    "df_c_m.dropna(inplace=True)"
   ]
  },
  {
   "cell_type": "code",
   "execution_count": 25,
   "metadata": {},
   "outputs": [],
   "source": [
    "categories_moves_c_m = df_c_m['segment'].unique()"
   ]
  },
  {
   "cell_type": "code",
   "execution_count": 26,
   "metadata": {},
   "outputs": [],
   "source": [
    "df_c_m_moves = pd.get_dummies(df_c_m.segment).reindex(columns=categories_moves_c_m, fill_value=0)"
   ]
  },
  {
   "cell_type": "code",
   "execution_count": 27,
   "metadata": {},
   "outputs": [],
   "source": [
    "df_c_m_summary_moves = pd.concat([df_c_m, df_c_m_moves], axis=1)"
   ]
  },
  {
   "cell_type": "code",
   "execution_count": 28,
   "metadata": {},
   "outputs": [],
   "source": [
    "df_c_m_begin = pd.DataFrame(df_c_m_summary_moves[df_c_m_summary_moves['split '].str.contains(\"b\")])\n",
    "df_c_m_end = pd.DataFrame(df_c_m_summary_moves[df_c_m_summary_moves['split '].str.contains(\"e\")])\n",
    "#df_c_m_middle = pd.DataFrame(df_c_m_summary_moves[df_c_m_summary_moves['location '].str.contains(\"m\")])"
   ]
  },
  {
   "cell_type": "code",
   "execution_count": null,
   "metadata": {},
   "outputs": [],
   "source": []
  },
  {
   "cell_type": "code",
   "execution_count": 29,
   "metadata": {},
   "outputs": [],
   "source": [
    "byLocation_c_m_begin = df_c_m_begin.groupby('filename')\n",
    "#byLocation_c_m_middle = df_c_m_middle.groupby('name')\n",
    "byLocation_c_m_end = df_c_m_end.groupby('filename')"
   ]
  },
  {
   "cell_type": "code",
   "execution_count": 30,
   "metadata": {},
   "outputs": [],
   "source": [
    "df_c_m_begin_sum = pd.DataFrame(byLocation_c_m_begin.sum())\n",
    "#df_c_m_middle_sum = pd.DataFrame(byLocation_c_m_middle.sum())\n",
    "df_c_m_end_sum = pd.DataFrame(byLocation_c_m_end.sum())"
   ]
  },
  {
   "cell_type": "code",
   "execution_count": 31,
   "metadata": {},
   "outputs": [
    {
     "data": {
      "text/html": [
       "<div>\n",
       "<style scoped>\n",
       "    .dataframe tbody tr th:only-of-type {\n",
       "        vertical-align: middle;\n",
       "    }\n",
       "\n",
       "    .dataframe tbody tr th {\n",
       "        vertical-align: top;\n",
       "    }\n",
       "\n",
       "    .dataframe thead th {\n",
       "        text-align: right;\n",
       "    }\n",
       "</style>\n",
       "<table border=\"1\" class=\"dataframe\">\n",
       "  <thead>\n",
       "    <tr style=\"text-align: right;\">\n",
       "      <th></th>\n",
       "      <th>location</th>\n",
       "      <th>ND-1</th>\n",
       "      <th>AR-1</th>\n",
       "      <th>SR</th>\n",
       "      <th>ND-2/3</th>\n",
       "      <th>CE-1</th>\n",
       "      <th>AR-2/3</th>\n",
       "      <th>CE-2/3</th>\n",
       "    </tr>\n",
       "    <tr>\n",
       "      <th>filename</th>\n",
       "      <th></th>\n",
       "      <th></th>\n",
       "      <th></th>\n",
       "      <th></th>\n",
       "      <th></th>\n",
       "      <th></th>\n",
       "      <th></th>\n",
       "      <th></th>\n",
       "    </tr>\n",
       "  </thead>\n",
       "  <tbody>\n",
       "    <tr>\n",
       "      <th>Middle-JV.P01.S02.TL.09.NOWEB - FINAL</th>\n",
       "      <td>1.35</td>\n",
       "      <td>4</td>\n",
       "      <td>2</td>\n",
       "      <td>0</td>\n",
       "      <td>0</td>\n",
       "      <td>0</td>\n",
       "      <td>0</td>\n",
       "      <td>0</td>\n",
       "    </tr>\n",
       "    <tr>\n",
       "      <th>Middle-JV.P02-FINAL</th>\n",
       "      <td>2.63</td>\n",
       "      <td>5</td>\n",
       "      <td>5</td>\n",
       "      <td>0</td>\n",
       "      <td>1</td>\n",
       "      <td>0</td>\n",
       "      <td>0</td>\n",
       "      <td>0</td>\n",
       "    </tr>\n",
       "    <tr>\n",
       "      <th>Middle-JV.P03.S02 - FINAL</th>\n",
       "      <td>1.61</td>\n",
       "      <td>4</td>\n",
       "      <td>2</td>\n",
       "      <td>0</td>\n",
       "      <td>1</td>\n",
       "      <td>0</td>\n",
       "      <td>0</td>\n",
       "      <td>0</td>\n",
       "    </tr>\n",
       "    <tr>\n",
       "      <th>Middle-JV.P04.S03-FINAL</th>\n",
       "      <td>0.50</td>\n",
       "      <td>1</td>\n",
       "      <td>1</td>\n",
       "      <td>0</td>\n",
       "      <td>0</td>\n",
       "      <td>0</td>\n",
       "      <td>0</td>\n",
       "      <td>0</td>\n",
       "    </tr>\n",
       "    <tr>\n",
       "      <th>Middle-MG.P02-FINAL</th>\n",
       "      <td>2.75</td>\n",
       "      <td>3</td>\n",
       "      <td>3</td>\n",
       "      <td>0</td>\n",
       "      <td>3</td>\n",
       "      <td>1</td>\n",
       "      <td>1</td>\n",
       "      <td>0</td>\n",
       "    </tr>\n",
       "    <tr>\n",
       "      <th>Middle-MG.P03.S02-FINAL</th>\n",
       "      <td>1.10</td>\n",
       "      <td>3</td>\n",
       "      <td>2</td>\n",
       "      <td>0</td>\n",
       "      <td>0</td>\n",
       "      <td>0</td>\n",
       "      <td>0</td>\n",
       "      <td>0</td>\n",
       "    </tr>\n",
       "    <tr>\n",
       "      <th>Middle-RH.P01.S03 - FINAL</th>\n",
       "      <td>2.12</td>\n",
       "      <td>4</td>\n",
       "      <td>3</td>\n",
       "      <td>0</td>\n",
       "      <td>1</td>\n",
       "      <td>0</td>\n",
       "      <td>1</td>\n",
       "      <td>0</td>\n",
       "    </tr>\n",
       "    <tr>\n",
       "      <th>Middle-RH.P02.S02.NOWEB-NOCONF.TL.09 - Final</th>\n",
       "      <td>1.75</td>\n",
       "      <td>4</td>\n",
       "      <td>3</td>\n",
       "      <td>0</td>\n",
       "      <td>0</td>\n",
       "      <td>0</td>\n",
       "      <td>0</td>\n",
       "      <td>0</td>\n",
       "    </tr>\n",
       "  </tbody>\n",
       "</table>\n",
       "</div>"
      ],
      "text/plain": [
       "                                              location   ND-1  AR-1  SR  \\\n",
       "filename                                                                  \n",
       "Middle-JV.P01.S02.TL.09.NOWEB - FINAL              1.35     4     2   0   \n",
       "Middle-JV.P02-FINAL                                2.63     5     5   0   \n",
       "Middle-JV.P03.S02 - FINAL                          1.61     4     2   0   \n",
       "Middle-JV.P04.S03-FINAL                            0.50     1     1   0   \n",
       "Middle-MG.P02-FINAL                                2.75     3     3   0   \n",
       "Middle-MG.P03.S02-FINAL                            1.10     3     2   0   \n",
       "Middle-RH.P01.S03 - FINAL                          2.12     4     3   0   \n",
       "Middle-RH.P02.S02.NOWEB-NOCONF.TL.09 - Final       1.75     4     3   0   \n",
       "\n",
       "                                              ND-2/3  CE-1  AR-2/3  CE-2/3  \n",
       "filename                                                                    \n",
       "Middle-JV.P01.S02.TL.09.NOWEB - FINAL              0     0       0       0  \n",
       "Middle-JV.P02-FINAL                                1     0       0       0  \n",
       "Middle-JV.P03.S02 - FINAL                          1     0       0       0  \n",
       "Middle-JV.P04.S03-FINAL                            0     0       0       0  \n",
       "Middle-MG.P02-FINAL                                3     1       1       0  \n",
       "Middle-MG.P03.S02-FINAL                            0     0       0       0  \n",
       "Middle-RH.P01.S03 - FINAL                          1     0       1       0  \n",
       "Middle-RH.P02.S02.NOWEB-NOCONF.TL.09 - Final       0     0       0       0  "
      ]
     },
     "execution_count": 31,
     "metadata": {},
     "output_type": "execute_result"
    }
   ],
   "source": [
    "df_c_m_begin_sum"
   ]
  },
  {
   "cell_type": "code",
   "execution_count": 32,
   "metadata": {},
   "outputs": [
    {
     "data": {
      "text/plain": [
       "location     1.72625\n",
       "ND-1         3.50000\n",
       "AR-1         2.62500\n",
       "SR           0.00000\n",
       "ND-2/3       0.75000\n",
       "CE-1         0.12500\n",
       "AR-2/3       0.25000\n",
       "CE-2/3       0.00000\n",
       "dtype: float64"
      ]
     },
     "execution_count": 32,
     "metadata": {},
     "output_type": "execute_result"
    }
   ],
   "source": [
    "df_c_m_begin_sum.mean()"
   ]
  },
  {
   "cell_type": "code",
   "execution_count": 33,
   "metadata": {},
   "outputs": [
    {
     "data": {
      "text/plain": [
       "location     0.762645\n",
       "ND-1         1.195229\n",
       "AR-1         1.187735\n",
       "SR           0.000000\n",
       "ND-2/3       1.035098\n",
       "CE-1         0.353553\n",
       "AR-2/3       0.462910\n",
       "CE-2/3       0.000000\n",
       "dtype: float64"
      ]
     },
     "execution_count": 33,
     "metadata": {},
     "output_type": "execute_result"
    }
   ],
   "source": [
    "df_c_m_begin_sum.std()"
   ]
  },
  {
   "cell_type": "code",
   "execution_count": 34,
   "metadata": {},
   "outputs": [],
   "source": [
    "#df_c_m_middle_sum"
   ]
  },
  {
   "cell_type": "code",
   "execution_count": 35,
   "metadata": {},
   "outputs": [],
   "source": [
    "#df_c_m_middle_sum.mean()"
   ]
  },
  {
   "cell_type": "code",
   "execution_count": 36,
   "metadata": {},
   "outputs": [],
   "source": [
    "#df_c_m_middle_sum.std()"
   ]
  },
  {
   "cell_type": "code",
   "execution_count": 37,
   "metadata": {},
   "outputs": [
    {
     "data": {
      "text/html": [
       "<div>\n",
       "<style scoped>\n",
       "    .dataframe tbody tr th:only-of-type {\n",
       "        vertical-align: middle;\n",
       "    }\n",
       "\n",
       "    .dataframe tbody tr th {\n",
       "        vertical-align: top;\n",
       "    }\n",
       "\n",
       "    .dataframe thead th {\n",
       "        text-align: right;\n",
       "    }\n",
       "</style>\n",
       "<table border=\"1\" class=\"dataframe\">\n",
       "  <thead>\n",
       "    <tr style=\"text-align: right;\">\n",
       "      <th></th>\n",
       "      <th>location</th>\n",
       "      <th>ND-1</th>\n",
       "      <th>AR-1</th>\n",
       "      <th>SR</th>\n",
       "      <th>ND-2/3</th>\n",
       "      <th>CE-1</th>\n",
       "      <th>AR-2/3</th>\n",
       "      <th>CE-2/3</th>\n",
       "    </tr>\n",
       "    <tr>\n",
       "      <th>filename</th>\n",
       "      <th></th>\n",
       "      <th></th>\n",
       "      <th></th>\n",
       "      <th></th>\n",
       "      <th></th>\n",
       "      <th></th>\n",
       "      <th></th>\n",
       "      <th></th>\n",
       "    </tr>\n",
       "  </thead>\n",
       "  <tbody>\n",
       "    <tr>\n",
       "      <th>Middle-JV.P01.S02.TL.09.NOWEB - FINAL</th>\n",
       "      <td>4.65</td>\n",
       "      <td>2</td>\n",
       "      <td>3</td>\n",
       "      <td>1</td>\n",
       "      <td>0</td>\n",
       "      <td>0</td>\n",
       "      <td>0</td>\n",
       "      <td>0</td>\n",
       "    </tr>\n",
       "    <tr>\n",
       "      <th>Middle-JV.P02-FINAL</th>\n",
       "      <td>8.37</td>\n",
       "      <td>3</td>\n",
       "      <td>2</td>\n",
       "      <td>1</td>\n",
       "      <td>1</td>\n",
       "      <td>1</td>\n",
       "      <td>3</td>\n",
       "      <td>0</td>\n",
       "    </tr>\n",
       "    <tr>\n",
       "      <th>Middle-JV.P03.S02 - FINAL</th>\n",
       "      <td>5.39</td>\n",
       "      <td>2</td>\n",
       "      <td>3</td>\n",
       "      <td>1</td>\n",
       "      <td>0</td>\n",
       "      <td>1</td>\n",
       "      <td>0</td>\n",
       "      <td>0</td>\n",
       "    </tr>\n",
       "    <tr>\n",
       "      <th>Middle-JV.P04.S03-FINAL</th>\n",
       "      <td>1.00</td>\n",
       "      <td>0</td>\n",
       "      <td>0</td>\n",
       "      <td>1</td>\n",
       "      <td>0</td>\n",
       "      <td>0</td>\n",
       "      <td>0</td>\n",
       "      <td>0</td>\n",
       "    </tr>\n",
       "    <tr>\n",
       "      <th>Middle-MG.P02-FINAL</th>\n",
       "      <td>7.75</td>\n",
       "      <td>2</td>\n",
       "      <td>1</td>\n",
       "      <td>1</td>\n",
       "      <td>2</td>\n",
       "      <td>0</td>\n",
       "      <td>2</td>\n",
       "      <td>2</td>\n",
       "    </tr>\n",
       "    <tr>\n",
       "      <th>Middle-MG.P03.S02-FINAL</th>\n",
       "      <td>3.90</td>\n",
       "      <td>1</td>\n",
       "      <td>1</td>\n",
       "      <td>1</td>\n",
       "      <td>0</td>\n",
       "      <td>1</td>\n",
       "      <td>1</td>\n",
       "      <td>0</td>\n",
       "    </tr>\n",
       "    <tr>\n",
       "      <th>Middle-RH.P01.S03 - FINAL</th>\n",
       "      <td>6.88</td>\n",
       "      <td>3</td>\n",
       "      <td>4</td>\n",
       "      <td>1</td>\n",
       "      <td>0</td>\n",
       "      <td>0</td>\n",
       "      <td>0</td>\n",
       "      <td>1</td>\n",
       "    </tr>\n",
       "    <tr>\n",
       "      <th>Middle-RH.P02.S02.NOWEB-NOCONF.TL.09 - Final</th>\n",
       "      <td>4.75</td>\n",
       "      <td>2</td>\n",
       "      <td>2</td>\n",
       "      <td>1</td>\n",
       "      <td>0</td>\n",
       "      <td>0</td>\n",
       "      <td>1</td>\n",
       "      <td>0</td>\n",
       "    </tr>\n",
       "  </tbody>\n",
       "</table>\n",
       "</div>"
      ],
      "text/plain": [
       "                                              location   ND-1  AR-1  SR  \\\n",
       "filename                                                                  \n",
       "Middle-JV.P01.S02.TL.09.NOWEB - FINAL              4.65     2     3   1   \n",
       "Middle-JV.P02-FINAL                                8.37     3     2   1   \n",
       "Middle-JV.P03.S02 - FINAL                          5.39     2     3   1   \n",
       "Middle-JV.P04.S03-FINAL                            1.00     0     0   1   \n",
       "Middle-MG.P02-FINAL                                7.75     2     1   1   \n",
       "Middle-MG.P03.S02-FINAL                            3.90     1     1   1   \n",
       "Middle-RH.P01.S03 - FINAL                          6.88     3     4   1   \n",
       "Middle-RH.P02.S02.NOWEB-NOCONF.TL.09 - Final       4.75     2     2   1   \n",
       "\n",
       "                                              ND-2/3  CE-1  AR-2/3  CE-2/3  \n",
       "filename                                                                    \n",
       "Middle-JV.P01.S02.TL.09.NOWEB - FINAL              0     0       0       0  \n",
       "Middle-JV.P02-FINAL                                1     1       3       0  \n",
       "Middle-JV.P03.S02 - FINAL                          0     1       0       0  \n",
       "Middle-JV.P04.S03-FINAL                            0     0       0       0  \n",
       "Middle-MG.P02-FINAL                                2     0       2       2  \n",
       "Middle-MG.P03.S02-FINAL                            0     1       1       0  \n",
       "Middle-RH.P01.S03 - FINAL                          0     0       0       1  \n",
       "Middle-RH.P02.S02.NOWEB-NOCONF.TL.09 - Final       0     0       1       0  "
      ]
     },
     "execution_count": 37,
     "metadata": {},
     "output_type": "execute_result"
    }
   ],
   "source": [
    "df_c_m_end_sum"
   ]
  },
  {
   "cell_type": "code",
   "execution_count": 38,
   "metadata": {},
   "outputs": [
    {
     "data": {
      "text/plain": [
       "location     5.33625\n",
       "ND-1         1.87500\n",
       "AR-1         2.00000\n",
       "SR           1.00000\n",
       "ND-2/3       0.37500\n",
       "CE-1         0.37500\n",
       "AR-2/3       0.87500\n",
       "CE-2/3       0.37500\n",
       "dtype: float64"
      ]
     },
     "execution_count": 38,
     "metadata": {},
     "output_type": "execute_result"
    }
   ],
   "source": [
    "df_c_m_end_sum.mean()"
   ]
  },
  {
   "cell_type": "code",
   "execution_count": 41,
   "metadata": {},
   "outputs": [
    {
     "data": {
      "text/plain": [
       "location     2.363302\n",
       "ND-1         0.991031\n",
       "AR-1         1.309307\n",
       "SR           0.000000\n",
       "ND-2/3       0.744024\n",
       "CE-1         0.517549\n",
       "AR-2/3       1.125992\n",
       "CE-2/3       0.744024\n",
       "dtype: float64"
      ]
     },
     "execution_count": 41,
     "metadata": {},
     "output_type": "execute_result"
    }
   ],
   "source": [
    "df_c_m_end_sum.std()"
   ]
  },
  {
   "cell_type": "markdown",
   "metadata": {},
   "source": [
    "### ############################################"
   ]
  },
  {
   "cell_type": "markdown",
   "metadata": {},
   "source": [
    "### FLOAT - MIDDLE"
   ]
  },
  {
   "cell_type": "code",
   "execution_count": 43,
   "metadata": {},
   "outputs": [
    {
     "data": {
      "text/html": [
       "<div>\n",
       "<style scoped>\n",
       "    .dataframe tbody tr th:only-of-type {\n",
       "        vertical-align: middle;\n",
       "    }\n",
       "\n",
       "    .dataframe tbody tr th {\n",
       "        vertical-align: top;\n",
       "    }\n",
       "\n",
       "    .dataframe thead th {\n",
       "        text-align: right;\n",
       "    }\n",
       "</style>\n",
       "<table border=\"1\" class=\"dataframe\">\n",
       "  <thead>\n",
       "    <tr style=\"text-align: right;\">\n",
       "      <th></th>\n",
       "      <th>filename</th>\n",
       "      <th>segment</th>\n",
       "      <th>location</th>\n",
       "      <th>split</th>\n",
       "    </tr>\n",
       "  </thead>\n",
       "  <tbody>\n",
       "    <tr>\n",
       "      <th>0</th>\n",
       "      <td>BH.P01.S03.SI.01 - Float - Final</td>\n",
       "      <td>ND-1</td>\n",
       "      <td>0.0</td>\n",
       "      <td>b</td>\n",
       "    </tr>\n",
       "    <tr>\n",
       "      <th>1</th>\n",
       "      <td>BH.P01.S03.SI.01 - Float - Final</td>\n",
       "      <td>ND-2/3</td>\n",
       "      <td>0.1</td>\n",
       "      <td>b</td>\n",
       "    </tr>\n",
       "    <tr>\n",
       "      <th>2</th>\n",
       "      <td>BH.P01.S03.SI.01 - Float - Final</td>\n",
       "      <td>AR-1</td>\n",
       "      <td>0.2</td>\n",
       "      <td>b</td>\n",
       "    </tr>\n",
       "    <tr>\n",
       "      <th>3</th>\n",
       "      <td>BH.P01.S03.SI.01 - Float - Final</td>\n",
       "      <td>ND-2/3</td>\n",
       "      <td>0.3</td>\n",
       "      <td>b</td>\n",
       "    </tr>\n",
       "    <tr>\n",
       "      <th>4</th>\n",
       "      <td>BH.P01.S03.SI.01 - Float - Final</td>\n",
       "      <td>CE-2/3</td>\n",
       "      <td>0.4</td>\n",
       "      <td>b</td>\n",
       "    </tr>\n",
       "  </tbody>\n",
       "</table>\n",
       "</div>"
      ],
      "text/plain": [
       "                           filename segment  location  split \n",
       "0  BH.P01.S03.SI.01 - Float - Final    ND-1        0.0      b\n",
       "1  BH.P01.S03.SI.01 - Float - Final  ND-2/3        0.1      b\n",
       "2  BH.P01.S03.SI.01 - Float - Final    AR-1        0.2      b\n",
       "3  BH.P01.S03.SI.01 - Float - Final  ND-2/3        0.3      b\n",
       "4  BH.P01.S03.SI.01 - Float - Final  CE-2/3        0.4      b"
      ]
     },
     "execution_count": 43,
     "metadata": {},
     "output_type": "execute_result"
    }
   ],
   "source": [
    "df_f_m.head()"
   ]
  },
  {
   "cell_type": "code",
   "execution_count": 44,
   "metadata": {},
   "outputs": [],
   "source": [
    "df_f_m.dropna(inplace=True)"
   ]
  },
  {
   "cell_type": "code",
   "execution_count": 45,
   "metadata": {},
   "outputs": [],
   "source": [
    "categories_moves_f_m = df_f_m['segment'].unique()"
   ]
  },
  {
   "cell_type": "code",
   "execution_count": 46,
   "metadata": {},
   "outputs": [],
   "source": [
    "df_f_m_moves = pd.get_dummies(df_f_m.segment).reindex(columns=categories_moves_f_m, fill_value=0)"
   ]
  },
  {
   "cell_type": "code",
   "execution_count": 47,
   "metadata": {},
   "outputs": [],
   "source": [
    "df_f_m_summary_moves = pd.concat([df_f_m, df_f_m_moves], axis=1)"
   ]
  },
  {
   "cell_type": "code",
   "execution_count": 48,
   "metadata": {},
   "outputs": [],
   "source": [
    "df_f_m_begin = pd.DataFrame(df_f_m_summary_moves[df_f_m_summary_moves['split '].str.contains(\"b\")])\n",
    "df_f_m_end = pd.DataFrame(df_f_m_summary_moves[df_f_m_summary_moves['split '].str.contains(\"e\")])\n",
    "#df_f_m_middle = pd.DataFrame(df_f_m_summary_moves[df_f_m_summary_moves['location '].str.contains(\"m\")])"
   ]
  },
  {
   "cell_type": "code",
   "execution_count": 49,
   "metadata": {},
   "outputs": [],
   "source": [
    "byLocation_f_m_begin = df_f_m_begin.groupby('filename')\n",
    "#byLocation_f_m_middle = df_f_m_middle.groupby('name')\n",
    "byLocation_f_m_end = df_f_m_end.groupby('filename')"
   ]
  },
  {
   "cell_type": "code",
   "execution_count": 50,
   "metadata": {},
   "outputs": [],
   "source": [
    "df_f_m_begin_sum = pd.DataFrame(byLocation_f_m_begin.sum())\n",
    "#df_f_m_middle_sum = pd.DataFrame(byLocation_f_m_middle.sum())\n",
    "df_f_m_end_sum = pd.DataFrame(byLocation_f_m_end.sum())"
   ]
  },
  {
   "cell_type": "code",
   "execution_count": 51,
   "metadata": {},
   "outputs": [
    {
     "data": {
      "text/html": [
       "<div>\n",
       "<style scoped>\n",
       "    .dataframe tbody tr th:only-of-type {\n",
       "        vertical-align: middle;\n",
       "    }\n",
       "\n",
       "    .dataframe tbody tr th {\n",
       "        vertical-align: top;\n",
       "    }\n",
       "\n",
       "    .dataframe thead th {\n",
       "        text-align: right;\n",
       "    }\n",
       "</style>\n",
       "<table border=\"1\" class=\"dataframe\">\n",
       "  <thead>\n",
       "    <tr style=\"text-align: right;\">\n",
       "      <th></th>\n",
       "      <th>location</th>\n",
       "      <th>ND-1</th>\n",
       "      <th>ND-2/3</th>\n",
       "      <th>AR-1</th>\n",
       "      <th>CE-2/3</th>\n",
       "      <th>SR</th>\n",
       "      <th>CE-1</th>\n",
       "      <th>AR-2/3</th>\n",
       "    </tr>\n",
       "    <tr>\n",
       "      <th>filename</th>\n",
       "      <th></th>\n",
       "      <th></th>\n",
       "      <th></th>\n",
       "      <th></th>\n",
       "      <th></th>\n",
       "      <th></th>\n",
       "      <th></th>\n",
       "      <th></th>\n",
       "    </tr>\n",
       "  </thead>\n",
       "  <tbody>\n",
       "    <tr>\n",
       "      <th>BH.P01.S03.SI.01 - Float - Final</th>\n",
       "      <td>1.50</td>\n",
       "      <td>1</td>\n",
       "      <td>2</td>\n",
       "      <td>2</td>\n",
       "      <td>1</td>\n",
       "      <td>0</td>\n",
       "      <td>0</td>\n",
       "      <td>0</td>\n",
       "    </tr>\n",
       "    <tr>\n",
       "      <th>BH.P02.S02.SI.01 - Float - Final</th>\n",
       "      <td>0.86</td>\n",
       "      <td>1</td>\n",
       "      <td>1</td>\n",
       "      <td>0</td>\n",
       "      <td>0</td>\n",
       "      <td>0</td>\n",
       "      <td>2</td>\n",
       "      <td>0</td>\n",
       "    </tr>\n",
       "    <tr>\n",
       "      <th>JV.P01.S02.SI.01.Float - Final</th>\n",
       "      <td>0.33</td>\n",
       "      <td>1</td>\n",
       "      <td>0</td>\n",
       "      <td>0</td>\n",
       "      <td>1</td>\n",
       "      <td>0</td>\n",
       "      <td>0</td>\n",
       "      <td>0</td>\n",
       "    </tr>\n",
       "    <tr>\n",
       "      <th>JV.P02.S02.SI.01.Float - Final</th>\n",
       "      <td>0.75</td>\n",
       "      <td>1</td>\n",
       "      <td>0</td>\n",
       "      <td>1</td>\n",
       "      <td>1</td>\n",
       "      <td>0</td>\n",
       "      <td>0</td>\n",
       "      <td>0</td>\n",
       "    </tr>\n",
       "    <tr>\n",
       "      <th>JV.P03.S03.SI.01.Float - Final</th>\n",
       "      <td>0.86</td>\n",
       "      <td>2</td>\n",
       "      <td>0</td>\n",
       "      <td>1</td>\n",
       "      <td>1</td>\n",
       "      <td>0</td>\n",
       "      <td>0</td>\n",
       "      <td>0</td>\n",
       "    </tr>\n",
       "    <tr>\n",
       "      <th>JV.P04.S02.SI.01.Float - Final</th>\n",
       "      <td>0.86</td>\n",
       "      <td>2</td>\n",
       "      <td>0</td>\n",
       "      <td>0</td>\n",
       "      <td>1</td>\n",
       "      <td>0</td>\n",
       "      <td>0</td>\n",
       "      <td>1</td>\n",
       "    </tr>\n",
       "    <tr>\n",
       "      <th>MG.P01.S03 - Float - Final</th>\n",
       "      <td>2.26</td>\n",
       "      <td>4</td>\n",
       "      <td>0</td>\n",
       "      <td>5</td>\n",
       "      <td>0</td>\n",
       "      <td>0</td>\n",
       "      <td>0</td>\n",
       "      <td>0</td>\n",
       "    </tr>\n",
       "    <tr>\n",
       "      <th>MG.P02.S03 - Float - Final</th>\n",
       "      <td>1.35</td>\n",
       "      <td>1</td>\n",
       "      <td>3</td>\n",
       "      <td>2</td>\n",
       "      <td>0</td>\n",
       "      <td>0</td>\n",
       "      <td>0</td>\n",
       "      <td>0</td>\n",
       "    </tr>\n",
       "    <tr>\n",
       "      <th>MG.P03.S01 - Float - Final</th>\n",
       "      <td>0.60</td>\n",
       "      <td>1</td>\n",
       "      <td>0</td>\n",
       "      <td>1</td>\n",
       "      <td>1</td>\n",
       "      <td>0</td>\n",
       "      <td>0</td>\n",
       "      <td>0</td>\n",
       "    </tr>\n",
       "    <tr>\n",
       "      <th>RH.P02.S03 - Float, NOWEB-NOCONF - Final</th>\n",
       "      <td>1.00</td>\n",
       "      <td>2</td>\n",
       "      <td>0</td>\n",
       "      <td>2</td>\n",
       "      <td>0</td>\n",
       "      <td>0</td>\n",
       "      <td>0</td>\n",
       "      <td>0</td>\n",
       "    </tr>\n",
       "  </tbody>\n",
       "</table>\n",
       "</div>"
      ],
      "text/plain": [
       "                                          location   ND-1  ND-2/3  AR-1  \\\n",
       "filename                                                                  \n",
       "BH.P01.S03.SI.01 - Float - Final               1.50     1       2     2   \n",
       "BH.P02.S02.SI.01 - Float - Final               0.86     1       1     0   \n",
       "JV.P01.S02.SI.01.Float - Final                 0.33     1       0     0   \n",
       "JV.P02.S02.SI.01.Float - Final                 0.75     1       0     1   \n",
       "JV.P03.S03.SI.01.Float - Final                 0.86     2       0     1   \n",
       "JV.P04.S02.SI.01.Float - Final                 0.86     2       0     0   \n",
       "MG.P01.S03 - Float - Final                     2.26     4       0     5   \n",
       "MG.P02.S03 - Float - Final                     1.35     1       3     2   \n",
       "MG.P03.S01 - Float - Final                     0.60     1       0     1   \n",
       "RH.P02.S03 - Float, NOWEB-NOCONF - Final       1.00     2       0     2   \n",
       "\n",
       "                                          CE-2/3  SR  CE-1  AR-2/3  \n",
       "filename                                                            \n",
       "BH.P01.S03.SI.01 - Float - Final               1   0     0       0  \n",
       "BH.P02.S02.SI.01 - Float - Final               0   0     2       0  \n",
       "JV.P01.S02.SI.01.Float - Final                 1   0     0       0  \n",
       "JV.P02.S02.SI.01.Float - Final                 1   0     0       0  \n",
       "JV.P03.S03.SI.01.Float - Final                 1   0     0       0  \n",
       "JV.P04.S02.SI.01.Float - Final                 1   0     0       1  \n",
       "MG.P01.S03 - Float - Final                     0   0     0       0  \n",
       "MG.P02.S03 - Float - Final                     0   0     0       0  \n",
       "MG.P03.S01 - Float - Final                     1   0     0       0  \n",
       "RH.P02.S03 - Float, NOWEB-NOCONF - Final       0   0     0       0  "
      ]
     },
     "execution_count": 51,
     "metadata": {},
     "output_type": "execute_result"
    }
   ],
   "source": [
    "df_f_m_begin_sum"
   ]
  },
  {
   "cell_type": "code",
   "execution_count": 52,
   "metadata": {},
   "outputs": [
    {
     "data": {
      "text/plain": [
       "location     1.037\n",
       "ND-1         1.600\n",
       "ND-2/3       0.600\n",
       "AR-1         1.400\n",
       "CE-2/3       0.600\n",
       "SR           0.000\n",
       "CE-1         0.200\n",
       "AR-2/3       0.100\n",
       "dtype: float64"
      ]
     },
     "execution_count": 52,
     "metadata": {},
     "output_type": "execute_result"
    }
   ],
   "source": [
    "df_f_m_begin_sum.mean()"
   ]
  },
  {
   "cell_type": "code",
   "execution_count": 53,
   "metadata": {},
   "outputs": [
    {
     "data": {
      "text/plain": [
       "location     0.545345\n",
       "ND-1         0.966092\n",
       "ND-2/3       1.074968\n",
       "AR-1         1.505545\n",
       "CE-2/3       0.516398\n",
       "SR           0.000000\n",
       "CE-1         0.632456\n",
       "AR-2/3       0.316228\n",
       "dtype: float64"
      ]
     },
     "execution_count": 53,
     "metadata": {},
     "output_type": "execute_result"
    }
   ],
   "source": [
    "df_f_m_begin_sum.std()"
   ]
  },
  {
   "cell_type": "code",
   "execution_count": 54,
   "metadata": {},
   "outputs": [],
   "source": [
    "#df_f_m_middle_sum"
   ]
  },
  {
   "cell_type": "code",
   "execution_count": 55,
   "metadata": {},
   "outputs": [],
   "source": [
    "#df_f_m_middle_sum.mean()"
   ]
  },
  {
   "cell_type": "code",
   "execution_count": 56,
   "metadata": {},
   "outputs": [],
   "source": [
    "#df_f_m_middle_sum.std()"
   ]
  },
  {
   "cell_type": "code",
   "execution_count": 57,
   "metadata": {},
   "outputs": [
    {
     "data": {
      "text/html": [
       "<div>\n",
       "<style scoped>\n",
       "    .dataframe tbody tr th:only-of-type {\n",
       "        vertical-align: middle;\n",
       "    }\n",
       "\n",
       "    .dataframe tbody tr th {\n",
       "        vertical-align: top;\n",
       "    }\n",
       "\n",
       "    .dataframe thead th {\n",
       "        text-align: right;\n",
       "    }\n",
       "</style>\n",
       "<table border=\"1\" class=\"dataframe\">\n",
       "  <thead>\n",
       "    <tr style=\"text-align: right;\">\n",
       "      <th></th>\n",
       "      <th>location</th>\n",
       "      <th>ND-1</th>\n",
       "      <th>ND-2/3</th>\n",
       "      <th>AR-1</th>\n",
       "      <th>CE-2/3</th>\n",
       "      <th>SR</th>\n",
       "      <th>CE-1</th>\n",
       "      <th>AR-2/3</th>\n",
       "    </tr>\n",
       "    <tr>\n",
       "      <th>filename</th>\n",
       "      <th></th>\n",
       "      <th></th>\n",
       "      <th></th>\n",
       "      <th></th>\n",
       "      <th></th>\n",
       "      <th></th>\n",
       "      <th></th>\n",
       "      <th></th>\n",
       "    </tr>\n",
       "  </thead>\n",
       "  <tbody>\n",
       "    <tr>\n",
       "      <th>BH.P01.S03.SI.01 - Float - Final</th>\n",
       "      <td>4.00</td>\n",
       "      <td>1</td>\n",
       "      <td>1</td>\n",
       "      <td>2</td>\n",
       "      <td>0</td>\n",
       "      <td>1</td>\n",
       "      <td>0</td>\n",
       "      <td>0</td>\n",
       "    </tr>\n",
       "    <tr>\n",
       "      <th>BH.P02.S02.SI.01 - Float - Final</th>\n",
       "      <td>3.14</td>\n",
       "      <td>0</td>\n",
       "      <td>0</td>\n",
       "      <td>1</td>\n",
       "      <td>1</td>\n",
       "      <td>1</td>\n",
       "      <td>0</td>\n",
       "      <td>1</td>\n",
       "    </tr>\n",
       "    <tr>\n",
       "      <th>JV.P01.S02.SI.01.Float - Final</th>\n",
       "      <td>1.67</td>\n",
       "      <td>0</td>\n",
       "      <td>0</td>\n",
       "      <td>0</td>\n",
       "      <td>0</td>\n",
       "      <td>1</td>\n",
       "      <td>0</td>\n",
       "      <td>1</td>\n",
       "    </tr>\n",
       "    <tr>\n",
       "      <th>JV.P02.S02.SI.01.Float - Final</th>\n",
       "      <td>1.75</td>\n",
       "      <td>0</td>\n",
       "      <td>0</td>\n",
       "      <td>1</td>\n",
       "      <td>0</td>\n",
       "      <td>1</td>\n",
       "      <td>0</td>\n",
       "      <td>0</td>\n",
       "    </tr>\n",
       "    <tr>\n",
       "      <th>JV.P03.S03.SI.01.Float - Final</th>\n",
       "      <td>3.14</td>\n",
       "      <td>1</td>\n",
       "      <td>0</td>\n",
       "      <td>2</td>\n",
       "      <td>0</td>\n",
       "      <td>1</td>\n",
       "      <td>0</td>\n",
       "      <td>0</td>\n",
       "    </tr>\n",
       "    <tr>\n",
       "      <th>JV.P04.S02.SI.01.Float - Final</th>\n",
       "      <td>3.14</td>\n",
       "      <td>1</td>\n",
       "      <td>0</td>\n",
       "      <td>2</td>\n",
       "      <td>0</td>\n",
       "      <td>1</td>\n",
       "      <td>0</td>\n",
       "      <td>0</td>\n",
       "    </tr>\n",
       "    <tr>\n",
       "      <th>MG.P01.S03 - Float - Final</th>\n",
       "      <td>6.26</td>\n",
       "      <td>3</td>\n",
       "      <td>0</td>\n",
       "      <td>3</td>\n",
       "      <td>1</td>\n",
       "      <td>1</td>\n",
       "      <td>0</td>\n",
       "      <td>0</td>\n",
       "    </tr>\n",
       "    <tr>\n",
       "      <th>MG.P02.S03 - Float - Final</th>\n",
       "      <td>4.65</td>\n",
       "      <td>1</td>\n",
       "      <td>0</td>\n",
       "      <td>0</td>\n",
       "      <td>1</td>\n",
       "      <td>1</td>\n",
       "      <td>1</td>\n",
       "      <td>2</td>\n",
       "    </tr>\n",
       "    <tr>\n",
       "      <th>MG.P03.S01 - Float - Final</th>\n",
       "      <td>2.40</td>\n",
       "      <td>1</td>\n",
       "      <td>0</td>\n",
       "      <td>1</td>\n",
       "      <td>0</td>\n",
       "      <td>1</td>\n",
       "      <td>0</td>\n",
       "      <td>0</td>\n",
       "    </tr>\n",
       "    <tr>\n",
       "      <th>RH.P02.S03 - Float, NOWEB-NOCONF - Final</th>\n",
       "      <td>2.50</td>\n",
       "      <td>1</td>\n",
       "      <td>0</td>\n",
       "      <td>1</td>\n",
       "      <td>0</td>\n",
       "      <td>1</td>\n",
       "      <td>0</td>\n",
       "      <td>0</td>\n",
       "    </tr>\n",
       "  </tbody>\n",
       "</table>\n",
       "</div>"
      ],
      "text/plain": [
       "                                          location   ND-1  ND-2/3  AR-1  \\\n",
       "filename                                                                  \n",
       "BH.P01.S03.SI.01 - Float - Final               4.00     1       1     2   \n",
       "BH.P02.S02.SI.01 - Float - Final               3.14     0       0     1   \n",
       "JV.P01.S02.SI.01.Float - Final                 1.67     0       0     0   \n",
       "JV.P02.S02.SI.01.Float - Final                 1.75     0       0     1   \n",
       "JV.P03.S03.SI.01.Float - Final                 3.14     1       0     2   \n",
       "JV.P04.S02.SI.01.Float - Final                 3.14     1       0     2   \n",
       "MG.P01.S03 - Float - Final                     6.26     3       0     3   \n",
       "MG.P02.S03 - Float - Final                     4.65     1       0     0   \n",
       "MG.P03.S01 - Float - Final                     2.40     1       0     1   \n",
       "RH.P02.S03 - Float, NOWEB-NOCONF - Final       2.50     1       0     1   \n",
       "\n",
       "                                          CE-2/3  SR  CE-1  AR-2/3  \n",
       "filename                                                            \n",
       "BH.P01.S03.SI.01 - Float - Final               0   1     0       0  \n",
       "BH.P02.S02.SI.01 - Float - Final               1   1     0       1  \n",
       "JV.P01.S02.SI.01.Float - Final                 0   1     0       1  \n",
       "JV.P02.S02.SI.01.Float - Final                 0   1     0       0  \n",
       "JV.P03.S03.SI.01.Float - Final                 0   1     0       0  \n",
       "JV.P04.S02.SI.01.Float - Final                 0   1     0       0  \n",
       "MG.P01.S03 - Float - Final                     1   1     0       0  \n",
       "MG.P02.S03 - Float - Final                     1   1     1       2  \n",
       "MG.P03.S01 - Float - Final                     0   1     0       0  \n",
       "RH.P02.S03 - Float, NOWEB-NOCONF - Final       0   1     0       0  "
      ]
     },
     "execution_count": 57,
     "metadata": {},
     "output_type": "execute_result"
    }
   ],
   "source": [
    "df_f_m_end_sum"
   ]
  },
  {
   "cell_type": "code",
   "execution_count": 58,
   "metadata": {},
   "outputs": [
    {
     "data": {
      "text/plain": [
       "location     3.265\n",
       "ND-1         0.900\n",
       "ND-2/3       0.100\n",
       "AR-1         1.300\n",
       "CE-2/3       0.300\n",
       "SR           1.000\n",
       "CE-1         0.100\n",
       "AR-2/3       0.400\n",
       "dtype: float64"
      ]
     },
     "execution_count": 58,
     "metadata": {},
     "output_type": "execute_result"
    }
   ],
   "source": [
    "df_f_m_end_sum.mean()"
   ]
  },
  {
   "cell_type": "code",
   "execution_count": 59,
   "metadata": {},
   "outputs": [
    {
     "data": {
      "text/plain": [
       "location     1.400319\n",
       "ND-1         0.875595\n",
       "ND-2/3       0.316228\n",
       "AR-1         0.948683\n",
       "CE-2/3       0.483046\n",
       "SR           0.000000\n",
       "CE-1         0.316228\n",
       "AR-2/3       0.699206\n",
       "dtype: float64"
      ]
     },
     "execution_count": 59,
     "metadata": {},
     "output_type": "execute_result"
    }
   ],
   "source": [
    "df_f_m_end_sum.std()"
   ]
  },
  {
   "cell_type": "markdown",
   "metadata": {},
   "source": [
    "### FLOAT - COLLEGE "
   ]
  },
  {
   "cell_type": "code",
   "execution_count": 60,
   "metadata": {},
   "outputs": [
    {
     "data": {
      "text/html": [
       "<div>\n",
       "<style scoped>\n",
       "    .dataframe tbody tr th:only-of-type {\n",
       "        vertical-align: middle;\n",
       "    }\n",
       "\n",
       "    .dataframe tbody tr th {\n",
       "        vertical-align: top;\n",
       "    }\n",
       "\n",
       "    .dataframe thead th {\n",
       "        text-align: right;\n",
       "    }\n",
       "</style>\n",
       "<table border=\"1\" class=\"dataframe\">\n",
       "  <thead>\n",
       "    <tr style=\"text-align: right;\">\n",
       "      <th></th>\n",
       "      <th>filename</th>\n",
       "      <th>segment</th>\n",
       "      <th>location</th>\n",
       "      <th>split</th>\n",
       "    </tr>\n",
       "  </thead>\n",
       "  <tbody>\n",
       "    <tr>\n",
       "      <th>0</th>\n",
       "      <td>BH.C.P01.S02 - Final</td>\n",
       "      <td>ND-2/3</td>\n",
       "      <td>0.00</td>\n",
       "      <td>b</td>\n",
       "    </tr>\n",
       "    <tr>\n",
       "      <th>1</th>\n",
       "      <td>BH.C.P01.S02 - Final</td>\n",
       "      <td>CE-2/3</td>\n",
       "      <td>0.07</td>\n",
       "      <td>b</td>\n",
       "    </tr>\n",
       "    <tr>\n",
       "      <th>2</th>\n",
       "      <td>BH.C.P01.S02 - Final</td>\n",
       "      <td>AR-1</td>\n",
       "      <td>0.13</td>\n",
       "      <td>b</td>\n",
       "    </tr>\n",
       "    <tr>\n",
       "      <th>3</th>\n",
       "      <td>BH.C.P01.S02 - Final</td>\n",
       "      <td>ND-1</td>\n",
       "      <td>0.20</td>\n",
       "      <td>b</td>\n",
       "    </tr>\n",
       "    <tr>\n",
       "      <th>4</th>\n",
       "      <td>BH.C.P01.S02 - Final</td>\n",
       "      <td>ND-2/3</td>\n",
       "      <td>0.27</td>\n",
       "      <td>b</td>\n",
       "    </tr>\n",
       "  </tbody>\n",
       "</table>\n",
       "</div>"
      ],
      "text/plain": [
       "               filename segment  location  split \n",
       "0  BH.C.P01.S02 - Final  ND-2/3       0.00      b\n",
       "1  BH.C.P01.S02 - Final  CE-2/3       0.07      b\n",
       "2  BH.C.P01.S02 - Final    AR-1       0.13      b\n",
       "3  BH.C.P01.S02 - Final    ND-1       0.20      b\n",
       "4  BH.C.P01.S02 - Final  ND-2/3       0.27      b"
      ]
     },
     "execution_count": 60,
     "metadata": {},
     "output_type": "execute_result"
    }
   ],
   "source": [
    "df_f_c.head()"
   ]
  },
  {
   "cell_type": "code",
   "execution_count": 61,
   "metadata": {},
   "outputs": [],
   "source": [
    "df_f_c.dropna(inplace=True)"
   ]
  },
  {
   "cell_type": "code",
   "execution_count": 62,
   "metadata": {},
   "outputs": [],
   "source": [
    "categories_moves_f_c = df_f_c['segment'].unique()"
   ]
  },
  {
   "cell_type": "code",
   "execution_count": 63,
   "metadata": {},
   "outputs": [],
   "source": [
    "df_f_c_moves = pd.get_dummies(df_f_c.segment).reindex(columns=categories_moves_f_c, fill_value=0)"
   ]
  },
  {
   "cell_type": "code",
   "execution_count": 64,
   "metadata": {},
   "outputs": [],
   "source": [
    "df_f_c_summary_moves = pd.concat([df_f_c, df_f_c_moves], axis=1)"
   ]
  },
  {
   "cell_type": "code",
   "execution_count": 65,
   "metadata": {},
   "outputs": [],
   "source": [
    "df_f_c_begin = pd.DataFrame(df_f_c_summary_moves[df_f_c_summary_moves['split '].str.contains(\"b\")])\n",
    "df_f_c_end = pd.DataFrame(df_f_c_summary_moves[df_f_c_summary_moves['split '].str.contains(\"e\")])\n",
    "#df_f_c_middle = pd.DataFrame(df_f_c_summary_moves[df_f_c_summary_moves['location'].str.contains(\"m\")])"
   ]
  },
  {
   "cell_type": "code",
   "execution_count": 66,
   "metadata": {},
   "outputs": [],
   "source": [
    "byLocation_f_c_begin = df_f_c_begin.groupby('filename')\n",
    "#byLocation_f_c_middle = df_f_c_middle.groupby('name')\n",
    "byLocation_f_c_end = df_f_c_end.groupby('filename')"
   ]
  },
  {
   "cell_type": "code",
   "execution_count": 67,
   "metadata": {},
   "outputs": [],
   "source": [
    "df_f_c_begin_sum = pd.DataFrame(byLocation_f_c_begin.sum())\n",
    "#df_f_c_middle_sum = pd.DataFrame(byLocation_f_c_middle.sum())\n",
    "df_f_c_end_sum = pd.DataFrame(byLocation_f_c_end.sum())"
   ]
  },
  {
   "cell_type": "code",
   "execution_count": 68,
   "metadata": {},
   "outputs": [
    {
     "data": {
      "text/html": [
       "<div>\n",
       "<style scoped>\n",
       "    .dataframe tbody tr th:only-of-type {\n",
       "        vertical-align: middle;\n",
       "    }\n",
       "\n",
       "    .dataframe tbody tr th {\n",
       "        vertical-align: top;\n",
       "    }\n",
       "\n",
       "    .dataframe thead th {\n",
       "        text-align: right;\n",
       "    }\n",
       "</style>\n",
       "<table border=\"1\" class=\"dataframe\">\n",
       "  <thead>\n",
       "    <tr style=\"text-align: right;\">\n",
       "      <th></th>\n",
       "      <th>location</th>\n",
       "      <th>ND-2/3</th>\n",
       "      <th>CE-2/3</th>\n",
       "      <th>AR-1</th>\n",
       "      <th>ND-1</th>\n",
       "      <th>AR-2/3</th>\n",
       "      <th>SR</th>\n",
       "      <th>CE-1</th>\n",
       "    </tr>\n",
       "    <tr>\n",
       "      <th>filename</th>\n",
       "      <th></th>\n",
       "      <th></th>\n",
       "      <th></th>\n",
       "      <th></th>\n",
       "      <th></th>\n",
       "      <th></th>\n",
       "      <th></th>\n",
       "      <th></th>\n",
       "    </tr>\n",
       "  </thead>\n",
       "  <tbody>\n",
       "    <tr>\n",
       "      <th>BH.C.P01.S02 - Final</th>\n",
       "      <td>1.87</td>\n",
       "      <td>2</td>\n",
       "      <td>2</td>\n",
       "      <td>1</td>\n",
       "      <td>2</td>\n",
       "      <td>1</td>\n",
       "      <td>0</td>\n",
       "      <td>0</td>\n",
       "    </tr>\n",
       "    <tr>\n",
       "      <th>BH.C.P02.S02 - Final</th>\n",
       "      <td>0.33</td>\n",
       "      <td>1</td>\n",
       "      <td>1</td>\n",
       "      <td>0</td>\n",
       "      <td>0</td>\n",
       "      <td>0</td>\n",
       "      <td>0</td>\n",
       "      <td>0</td>\n",
       "    </tr>\n",
       "    <tr>\n",
       "      <th>BH.C.P03.S03 - Final</th>\n",
       "      <td>1.10</td>\n",
       "      <td>0</td>\n",
       "      <td>1</td>\n",
       "      <td>1</td>\n",
       "      <td>2</td>\n",
       "      <td>1</td>\n",
       "      <td>0</td>\n",
       "      <td>0</td>\n",
       "    </tr>\n",
       "    <tr>\n",
       "      <th>JV.C.P01.S03 - Final</th>\n",
       "      <td>0.86</td>\n",
       "      <td>0</td>\n",
       "      <td>1</td>\n",
       "      <td>1</td>\n",
       "      <td>2</td>\n",
       "      <td>0</td>\n",
       "      <td>0</td>\n",
       "      <td>0</td>\n",
       "    </tr>\n",
       "    <tr>\n",
       "      <th>JV.C.P02.S02 - Final</th>\n",
       "      <td>1.35</td>\n",
       "      <td>1</td>\n",
       "      <td>1</td>\n",
       "      <td>1</td>\n",
       "      <td>3</td>\n",
       "      <td>0</td>\n",
       "      <td>0</td>\n",
       "      <td>0</td>\n",
       "    </tr>\n",
       "    <tr>\n",
       "      <th>JV.C.P03.S02 - Final</th>\n",
       "      <td>1.10</td>\n",
       "      <td>0</td>\n",
       "      <td>0</td>\n",
       "      <td>2</td>\n",
       "      <td>3</td>\n",
       "      <td>0</td>\n",
       "      <td>0</td>\n",
       "      <td>0</td>\n",
       "    </tr>\n",
       "    <tr>\n",
       "      <th>MG.C.P01.S02 - Final</th>\n",
       "      <td>1.87</td>\n",
       "      <td>1</td>\n",
       "      <td>1</td>\n",
       "      <td>2</td>\n",
       "      <td>3</td>\n",
       "      <td>1</td>\n",
       "      <td>0</td>\n",
       "      <td>0</td>\n",
       "    </tr>\n",
       "    <tr>\n",
       "      <th>MG.C.P02.S01 - Final</th>\n",
       "      <td>0.33</td>\n",
       "      <td>0</td>\n",
       "      <td>0</td>\n",
       "      <td>0</td>\n",
       "      <td>1</td>\n",
       "      <td>1</td>\n",
       "      <td>0</td>\n",
       "      <td>0</td>\n",
       "    </tr>\n",
       "    <tr>\n",
       "      <th>RH.C.P01.S02 - Final</th>\n",
       "      <td>0.33</td>\n",
       "      <td>0</td>\n",
       "      <td>1</td>\n",
       "      <td>0</td>\n",
       "      <td>1</td>\n",
       "      <td>0</td>\n",
       "      <td>0</td>\n",
       "      <td>0</td>\n",
       "    </tr>\n",
       "    <tr>\n",
       "      <th>RH.C.P02.SI.01 - Final</th>\n",
       "      <td>0.33</td>\n",
       "      <td>0</td>\n",
       "      <td>0</td>\n",
       "      <td>0</td>\n",
       "      <td>1</td>\n",
       "      <td>0</td>\n",
       "      <td>0</td>\n",
       "      <td>1</td>\n",
       "    </tr>\n",
       "    <tr>\n",
       "      <th>RH.C.P03.S03.SI.01 - Final</th>\n",
       "      <td>2.26</td>\n",
       "      <td>0</td>\n",
       "      <td>1</td>\n",
       "      <td>2</td>\n",
       "      <td>4</td>\n",
       "      <td>2</td>\n",
       "      <td>0</td>\n",
       "      <td>0</td>\n",
       "    </tr>\n",
       "  </tbody>\n",
       "</table>\n",
       "</div>"
      ],
      "text/plain": [
       "                            location   ND-2/3  CE-2/3  AR-1  ND-1  AR-2/3  SR  \\\n",
       "filename                                                                        \n",
       "BH.C.P01.S02 - Final             1.87       2       2     1     2       1   0   \n",
       "BH.C.P02.S02 - Final             0.33       1       1     0     0       0   0   \n",
       "BH.C.P03.S03 - Final             1.10       0       1     1     2       1   0   \n",
       "JV.C.P01.S03 - Final             0.86       0       1     1     2       0   0   \n",
       "JV.C.P02.S02 - Final             1.35       1       1     1     3       0   0   \n",
       "JV.C.P03.S02 - Final             1.10       0       0     2     3       0   0   \n",
       "MG.C.P01.S02 - Final             1.87       1       1     2     3       1   0   \n",
       "MG.C.P02.S01 - Final             0.33       0       0     0     1       1   0   \n",
       "RH.C.P01.S02 - Final             0.33       0       1     0     1       0   0   \n",
       "RH.C.P02.SI.01 - Final           0.33       0       0     0     1       0   0   \n",
       "RH.C.P03.S03.SI.01 - Final       2.26       0       1     2     4       2   0   \n",
       "\n",
       "                            CE-1  \n",
       "filename                          \n",
       "BH.C.P01.S02 - Final           0  \n",
       "BH.C.P02.S02 - Final           0  \n",
       "BH.C.P03.S03 - Final           0  \n",
       "JV.C.P01.S03 - Final           0  \n",
       "JV.C.P02.S02 - Final           0  \n",
       "JV.C.P03.S02 - Final           0  \n",
       "MG.C.P01.S02 - Final           0  \n",
       "MG.C.P02.S01 - Final           0  \n",
       "RH.C.P01.S02 - Final           0  \n",
       "RH.C.P02.SI.01 - Final         1  \n",
       "RH.C.P03.S03.SI.01 - Final     0  "
      ]
     },
     "execution_count": 68,
     "metadata": {},
     "output_type": "execute_result"
    }
   ],
   "source": [
    "df_f_c_begin_sum"
   ]
  },
  {
   "cell_type": "code",
   "execution_count": 69,
   "metadata": {},
   "outputs": [
    {
     "data": {
      "text/plain": [
       "location     1.066364\n",
       "ND-2/3       0.454545\n",
       "CE-2/3       0.818182\n",
       "AR-1         0.909091\n",
       "ND-1         2.000000\n",
       "AR-2/3       0.545455\n",
       "SR           0.000000\n",
       "CE-1         0.090909\n",
       "dtype: float64"
      ]
     },
     "execution_count": 69,
     "metadata": {},
     "output_type": "execute_result"
    }
   ],
   "source": [
    "df_f_c_begin_sum.mean()"
   ]
  },
  {
   "cell_type": "code",
   "execution_count": 70,
   "metadata": {},
   "outputs": [
    {
     "data": {
      "text/plain": [
       "location     0.707860\n",
       "ND-2/3       0.687552\n",
       "CE-2/3       0.603023\n",
       "AR-1         0.831209\n",
       "ND-1         1.183216\n",
       "AR-2/3       0.687552\n",
       "SR           0.000000\n",
       "CE-1         0.301511\n",
       "dtype: float64"
      ]
     },
     "execution_count": 70,
     "metadata": {},
     "output_type": "execute_result"
    }
   ],
   "source": [
    "df_f_c_begin_sum.std()"
   ]
  },
  {
   "cell_type": "code",
   "execution_count": 71,
   "metadata": {},
   "outputs": [],
   "source": [
    "#df_f_c_middle_sum"
   ]
  },
  {
   "cell_type": "code",
   "execution_count": 72,
   "metadata": {},
   "outputs": [],
   "source": [
    "#df_f_c_middle_sum.mean()"
   ]
  },
  {
   "cell_type": "code",
   "execution_count": 73,
   "metadata": {},
   "outputs": [],
   "source": [
    "#df_f_c_middle_sum.std()"
   ]
  },
  {
   "cell_type": "code",
   "execution_count": 74,
   "metadata": {
    "scrolled": true
   },
   "outputs": [
    {
     "data": {
      "text/html": [
       "<div>\n",
       "<style scoped>\n",
       "    .dataframe tbody tr th:only-of-type {\n",
       "        vertical-align: middle;\n",
       "    }\n",
       "\n",
       "    .dataframe tbody tr th {\n",
       "        vertical-align: top;\n",
       "    }\n",
       "\n",
       "    .dataframe thead th {\n",
       "        text-align: right;\n",
       "    }\n",
       "</style>\n",
       "<table border=\"1\" class=\"dataframe\">\n",
       "  <thead>\n",
       "    <tr style=\"text-align: right;\">\n",
       "      <th></th>\n",
       "      <th>location</th>\n",
       "      <th>ND-2/3</th>\n",
       "      <th>CE-2/3</th>\n",
       "      <th>AR-1</th>\n",
       "      <th>ND-1</th>\n",
       "      <th>AR-2/3</th>\n",
       "      <th>SR</th>\n",
       "      <th>CE-1</th>\n",
       "    </tr>\n",
       "    <tr>\n",
       "      <th>filename</th>\n",
       "      <th></th>\n",
       "      <th></th>\n",
       "      <th></th>\n",
       "      <th></th>\n",
       "      <th></th>\n",
       "      <th></th>\n",
       "      <th></th>\n",
       "      <th></th>\n",
       "    </tr>\n",
       "  </thead>\n",
       "  <tbody>\n",
       "    <tr>\n",
       "      <th>BH.C.P01.S02 - Final</th>\n",
       "      <td>6.13</td>\n",
       "      <td>0</td>\n",
       "      <td>1</td>\n",
       "      <td>4</td>\n",
       "      <td>2</td>\n",
       "      <td>0</td>\n",
       "      <td>1</td>\n",
       "      <td>0</td>\n",
       "    </tr>\n",
       "    <tr>\n",
       "      <th>BH.C.P02.S02 - Final</th>\n",
       "      <td>1.67</td>\n",
       "      <td>0</td>\n",
       "      <td>0</td>\n",
       "      <td>1</td>\n",
       "      <td>0</td>\n",
       "      <td>0</td>\n",
       "      <td>1</td>\n",
       "      <td>0</td>\n",
       "    </tr>\n",
       "    <tr>\n",
       "      <th>BH.C.P03.S03 - Final</th>\n",
       "      <td>3.90</td>\n",
       "      <td>0</td>\n",
       "      <td>0</td>\n",
       "      <td>2</td>\n",
       "      <td>2</td>\n",
       "      <td>0</td>\n",
       "      <td>1</td>\n",
       "      <td>0</td>\n",
       "    </tr>\n",
       "    <tr>\n",
       "      <th>JV.C.P01.S03 - Final</th>\n",
       "      <td>3.14</td>\n",
       "      <td>0</td>\n",
       "      <td>0</td>\n",
       "      <td>2</td>\n",
       "      <td>1</td>\n",
       "      <td>0</td>\n",
       "      <td>1</td>\n",
       "      <td>0</td>\n",
       "    </tr>\n",
       "    <tr>\n",
       "      <th>JV.C.P02.S02 - Final</th>\n",
       "      <td>4.65</td>\n",
       "      <td>0</td>\n",
       "      <td>1</td>\n",
       "      <td>2</td>\n",
       "      <td>1</td>\n",
       "      <td>0</td>\n",
       "      <td>1</td>\n",
       "      <td>1</td>\n",
       "    </tr>\n",
       "    <tr>\n",
       "      <th>JV.C.P03.S02 - Final</th>\n",
       "      <td>3.90</td>\n",
       "      <td>0</td>\n",
       "      <td>0</td>\n",
       "      <td>2</td>\n",
       "      <td>2</td>\n",
       "      <td>0</td>\n",
       "      <td>1</td>\n",
       "      <td>0</td>\n",
       "    </tr>\n",
       "    <tr>\n",
       "      <th>MG.C.P01.S02 - Final</th>\n",
       "      <td>6.13</td>\n",
       "      <td>1</td>\n",
       "      <td>1</td>\n",
       "      <td>3</td>\n",
       "      <td>2</td>\n",
       "      <td>0</td>\n",
       "      <td>1</td>\n",
       "      <td>0</td>\n",
       "    </tr>\n",
       "    <tr>\n",
       "      <th>MG.C.P02.S01 - Final</th>\n",
       "      <td>1.67</td>\n",
       "      <td>0</td>\n",
       "      <td>1</td>\n",
       "      <td>0</td>\n",
       "      <td>0</td>\n",
       "      <td>0</td>\n",
       "      <td>1</td>\n",
       "      <td>0</td>\n",
       "    </tr>\n",
       "    <tr>\n",
       "      <th>RH.C.P01.S02 - Final</th>\n",
       "      <td>1.67</td>\n",
       "      <td>0</td>\n",
       "      <td>0</td>\n",
       "      <td>1</td>\n",
       "      <td>0</td>\n",
       "      <td>0</td>\n",
       "      <td>1</td>\n",
       "      <td>0</td>\n",
       "    </tr>\n",
       "    <tr>\n",
       "      <th>RH.C.P02.SI.01 - Final</th>\n",
       "      <td>1.67</td>\n",
       "      <td>0</td>\n",
       "      <td>0</td>\n",
       "      <td>1</td>\n",
       "      <td>0</td>\n",
       "      <td>0</td>\n",
       "      <td>1</td>\n",
       "      <td>0</td>\n",
       "    </tr>\n",
       "    <tr>\n",
       "      <th>RH.C.P03.S03.SI.01 - Final</th>\n",
       "      <td>6.26</td>\n",
       "      <td>1</td>\n",
       "      <td>0</td>\n",
       "      <td>4</td>\n",
       "      <td>2</td>\n",
       "      <td>0</td>\n",
       "      <td>1</td>\n",
       "      <td>0</td>\n",
       "    </tr>\n",
       "  </tbody>\n",
       "</table>\n",
       "</div>"
      ],
      "text/plain": [
       "                            location   ND-2/3  CE-2/3  AR-1  ND-1  AR-2/3  SR  \\\n",
       "filename                                                                        \n",
       "BH.C.P01.S02 - Final             6.13       0       1     4     2       0   1   \n",
       "BH.C.P02.S02 - Final             1.67       0       0     1     0       0   1   \n",
       "BH.C.P03.S03 - Final             3.90       0       0     2     2       0   1   \n",
       "JV.C.P01.S03 - Final             3.14       0       0     2     1       0   1   \n",
       "JV.C.P02.S02 - Final             4.65       0       1     2     1       0   1   \n",
       "JV.C.P03.S02 - Final             3.90       0       0     2     2       0   1   \n",
       "MG.C.P01.S02 - Final             6.13       1       1     3     2       0   1   \n",
       "MG.C.P02.S01 - Final             1.67       0       1     0     0       0   1   \n",
       "RH.C.P01.S02 - Final             1.67       0       0     1     0       0   1   \n",
       "RH.C.P02.SI.01 - Final           1.67       0       0     1     0       0   1   \n",
       "RH.C.P03.S03.SI.01 - Final       6.26       1       0     4     2       0   1   \n",
       "\n",
       "                            CE-1  \n",
       "filename                          \n",
       "BH.C.P01.S02 - Final           0  \n",
       "BH.C.P02.S02 - Final           0  \n",
       "BH.C.P03.S03 - Final           0  \n",
       "JV.C.P01.S03 - Final           0  \n",
       "JV.C.P02.S02 - Final           1  \n",
       "JV.C.P03.S02 - Final           0  \n",
       "MG.C.P01.S02 - Final           0  \n",
       "MG.C.P02.S01 - Final           0  \n",
       "RH.C.P01.S02 - Final           0  \n",
       "RH.C.P02.SI.01 - Final         0  \n",
       "RH.C.P03.S03.SI.01 - Final     0  "
      ]
     },
     "execution_count": 74,
     "metadata": {},
     "output_type": "execute_result"
    }
   ],
   "source": [
    "df_f_c_end_sum"
   ]
  },
  {
   "cell_type": "code",
   "execution_count": 75,
   "metadata": {},
   "outputs": [
    {
     "data": {
      "text/plain": [
       "location     3.708182\n",
       "ND-2/3       0.181818\n",
       "CE-2/3       0.363636\n",
       "AR-1         2.000000\n",
       "ND-1         1.090909\n",
       "AR-2/3       0.000000\n",
       "SR           1.000000\n",
       "CE-1         0.090909\n",
       "dtype: float64"
      ]
     },
     "execution_count": 75,
     "metadata": {},
     "output_type": "execute_result"
    }
   ],
   "source": [
    "df_f_c_end_sum.mean()"
   ]
  },
  {
   "cell_type": "code",
   "execution_count": 76,
   "metadata": {},
   "outputs": [
    {
     "data": {
      "text/plain": [
       "location     1.901115\n",
       "ND-2/3       0.404520\n",
       "CE-2/3       0.504525\n",
       "AR-1         1.264911\n",
       "ND-1         0.943880\n",
       "AR-2/3       0.000000\n",
       "SR           0.000000\n",
       "CE-1         0.301511\n",
       "dtype: float64"
      ]
     },
     "execution_count": 76,
     "metadata": {},
     "output_type": "execute_result"
    }
   ],
   "source": [
    "df_f_c_end_sum.std()"
   ]
  },
  {
   "cell_type": "code",
   "execution_count": null,
   "metadata": {},
   "outputs": [],
   "source": []
  }
 ],
 "metadata": {
  "kernelspec": {
   "display_name": "Python 3",
   "language": "python",
   "name": "python3"
  },
  "language_info": {
   "codemirror_mode": {
    "name": "ipython",
    "version": 3
   },
   "file_extension": ".py",
   "mimetype": "text/x-python",
   "name": "python",
   "nbconvert_exporter": "python",
   "pygments_lexer": "ipython3",
   "version": "3.8.5"
  }
 },
 "nbformat": 4,
 "nbformat_minor": 4
}
